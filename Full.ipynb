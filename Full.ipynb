{
 "cells": [
  {
   "cell_type": "markdown",
   "id": "4c8b0324-c3e4-4fe5-8526-d1a16e84f324",
   "metadata": {},
   "source": [
    "1. LLM獲取文字\n",
    "2. 判斷人物、說話語氣\n",
    "3. TTS轉語音"
   ]
  },
  {
   "cell_type": "code",
   "execution_count": 1,
   "id": "1ac3d750-ee19-4b21-880f-098e482285a7",
   "metadata": {},
   "outputs": [
    {
     "name": "stderr",
     "output_type": "stream",
     "text": [
      "C:\\Users\\USER\\anaconda3\\lib\\site-packages\\pydub\\utils.py:170: RuntimeWarning: Couldn't find ffmpeg or avconv - defaulting to ffmpeg, but may not work\n",
      "  warn(\"Couldn't find ffmpeg or avconv - defaulting to ffmpeg, but may not work\", RuntimeWarning)\n"
     ]
    },
    {
     "ename": "ModuleNotFoundError",
     "evalue": "No module named 'TTS'",
     "output_type": "error",
     "traceback": [
      "\u001b[1;31m---------------------------------------------------------------------------\u001b[0m",
      "\u001b[1;31mModuleNotFoundError\u001b[0m                       Traceback (most recent call last)",
      "Cell \u001b[1;32mIn[1], line 7\u001b[0m\n\u001b[0;32m      4\u001b[0m \u001b[38;5;28;01mimport\u001b[39;00m \u001b[38;5;21;01mpandas\u001b[39;00m \u001b[38;5;28;01mas\u001b[39;00m \u001b[38;5;21;01mpd\u001b[39;00m\n\u001b[0;32m      5\u001b[0m \u001b[38;5;28;01mfrom\u001b[39;00m \u001b[38;5;21;01mpydub\u001b[39;00m \u001b[38;5;28;01mimport\u001b[39;00m AudioSegment\n\u001b[1;32m----> 7\u001b[0m \u001b[38;5;28;01mfrom\u001b[39;00m \u001b[38;5;21;01mTTS\u001b[39;00m\u001b[38;5;21;01m.\u001b[39;00m\u001b[38;5;21;01mapi\u001b[39;00m \u001b[38;5;28;01mimport\u001b[39;00m TTS\n\u001b[0;32m      8\u001b[0m \u001b[38;5;28;01mfrom\u001b[39;00m \u001b[38;5;21;01mgliner\u001b[39;00m \u001b[38;5;28;01mimport\u001b[39;00m GLiNER\n\u001b[0;32m      9\u001b[0m \u001b[38;5;28;01mfrom\u001b[39;00m \u001b[38;5;21;01mtransformers\u001b[39;00m \u001b[38;5;28;01mimport\u001b[39;00m pipeline, AutoTokenizer, AutoModelForSequenceClassification\n",
      "\u001b[1;31mModuleNotFoundError\u001b[0m: No module named 'TTS'"
     ]
    }
   ],
   "source": [
    "import gc\n",
    "import re\n",
    "import json\n",
    "import pandas as pd\n",
    "from pydub import AudioSegment\n",
    "\n",
    "from TTS.api import TTS\n",
    "from gliner import GLiNER\n",
    "from transformers import pipeline, AutoTokenizer, AutoModelForSequenceClassification\n",
    "\n",
    "from utils import *\n",
    "\n",
    "device = \"cuda\" if torch.cuda.is_available() else \"cpu\""
   ]
  },
  {
   "cell_type": "code",
   "execution_count": 2,
   "id": "c80161f1-3c3e-4173-b39f-7e52505aa63c",
   "metadata": {
    "collapsed": true,
    "jupyter": {
     "outputs_hidden": true
    },
    "tags": []
   },
   "outputs": [
    {
     "data": {
      "application/vnd.jupyter.widget-view+json": {
       "model_id": "5917dcf57bed4468a15e9ac0aa05d5ae",
       "version_major": 2,
       "version_minor": 0
      },
      "text/plain": [
       "Fetching 5 files:   0%|          | 0/5 [00:00<?, ?it/s]"
      ]
     },
     "metadata": {},
     "output_type": "display_data"
    },
    {
     "data": {
      "application/vnd.jupyter.widget-view+json": {
       "model_id": "c3a79dff605f484fb6064003adfe4804",
       "version_major": 2,
       "version_minor": 0
      },
      "text/plain": [
       "model.safetensors:  11%|#         | 83.9M/781M [00:00<?, ?B/s]"
      ]
     },
     "metadata": {},
     "output_type": "display_data"
    },
    {
     "data": {
      "application/vnd.jupyter.widget-view+json": {
       "model_id": "a7fd744deaa14085abacfda06569d82c",
       "version_major": 2,
       "version_minor": 0
      },
      "text/plain": [
       "pytorch_model.bin:  13%|#3        | 105M/781M [00:00<?, ?B/s]"
      ]
     },
     "metadata": {},
     "output_type": "display_data"
    },
    {
     "name": "stderr",
     "output_type": "stream",
     "text": [
      "C:\\Users\\USER\\anaconda3\\lib\\site-packages\\huggingface_hub\\file_download.py:139: UserWarning: `huggingface_hub` cache-system uses symlinks by default to efficiently store duplicated files but your machine does not support them in C:\\Users\\USER\\.cache\\huggingface\\hub\\models--urchade--gliner_mediumv2.1. Caching files will still work but in a degraded version that might require more space on your disk. This warning can be disabled by setting the `HF_HUB_DISABLE_SYMLINKS_WARNING` environment variable. For more details, see https://huggingface.co/docs/huggingface_hub/how-to-cache#limitations.\n",
      "To support symlinks on Windows, you either need to activate Developer Mode or to run Python as an administrator. In order to activate developer mode, see this article: https://docs.microsoft.com/en-us/windows/apps/get-started/enable-your-device-for-development\n",
      "  warnings.warn(message)\n"
     ]
    },
    {
     "data": {
      "application/vnd.jupyter.widget-view+json": {
       "model_id": "b9e4588265234a18ab21bfa083c25702",
       "version_major": 2,
       "version_minor": 0
      },
      "text/plain": [
       "tokenizer_config.json:   0%|          | 0.00/52.0 [00:00<?, ?B/s]"
      ]
     },
     "metadata": {},
     "output_type": "display_data"
    },
    {
     "name": "stderr",
     "output_type": "stream",
     "text": [
      "C:\\Users\\USER\\anaconda3\\lib\\site-packages\\huggingface_hub\\file_download.py:139: UserWarning: `huggingface_hub` cache-system uses symlinks by default to efficiently store duplicated files but your machine does not support them in C:\\Users\\USER\\.cache\\huggingface\\hub\\models--microsoft--deberta-v3-base. Caching files will still work but in a degraded version that might require more space on your disk. This warning can be disabled by setting the `HF_HUB_DISABLE_SYMLINKS_WARNING` environment variable. For more details, see https://huggingface.co/docs/huggingface_hub/how-to-cache#limitations.\n",
      "To support symlinks on Windows, you either need to activate Developer Mode or to run Python as an administrator. In order to activate developer mode, see this article: https://docs.microsoft.com/en-us/windows/apps/get-started/enable-your-device-for-development\n",
      "  warnings.warn(message)\n"
     ]
    },
    {
     "data": {
      "application/vnd.jupyter.widget-view+json": {
       "model_id": "93431918489744309614f28a951b23d3",
       "version_major": 2,
       "version_minor": 0
      },
      "text/plain": [
       "config.json:   0%|          | 0.00/579 [00:00<?, ?B/s]"
      ]
     },
     "metadata": {},
     "output_type": "display_data"
    },
    {
     "data": {
      "application/vnd.jupyter.widget-view+json": {
       "model_id": "c814492d7f25421ca71dbd4fed79b127",
       "version_major": 2,
       "version_minor": 0
      },
      "text/plain": [
       "spm.model:   0%|          | 0.00/2.46M [00:00<?, ?B/s]"
      ]
     },
     "metadata": {},
     "output_type": "display_data"
    },
    {
     "name": "stderr",
     "output_type": "stream",
     "text": [
      "C:\\Users\\USER\\anaconda3\\lib\\site-packages\\transformers\\convert_slow_tokenizer.py:561: UserWarning: The sentencepiece tokenizer that you are converting to a fast tokenizer uses the byte fallback option which is not implemented in the fast tokenizers. In practice this means that the fast version of the tokenizer can produce unknown tokens whereas the sentencepiece version would have converted these unknown tokens into a sequence of byte tokens matching the original piece of text.\n",
      "  warnings.warn(\n"
     ]
    }
   ],
   "source": [
    "gn = GLiNER.from_pretrained(\"urchade/gliner_mediumv2.1\").to(device)\n",
    "tts = TTS(\"tts_models/multilingual/multi-dataset/xtts_v2\").to(device)\n",
    "classifier = pipeline(\"sentiment-analysis\", model=\"michellejieli/emotion_text_classifier\",  device=device)"
   ]
  },
  {
   "cell_type": "code",
   "execution_count": 13,
   "id": "636a7a0b-2045-4456-9b31-41d3b9e04b6d",
   "metadata": {},
   "outputs": [],
   "source": [
    "result = main()\n",
    "\n",
    "df = pd.DataFrame(result)\n",
    "df['emotion'] = None\n",
    "df['char'] = None\n",
    "\n",
    "labels = [\"Male\", \"Female\"]\n",
    "\n",
    "# 獲取情緒和角色身分\n",
    "for c in range(df.shape[0]):\n",
    "    sentence_with_name = f\"{df['speaker'][c]} : {df['content'][c]}\"\n",
    "    sentence_only = df['content'][c]\n",
    "    \n",
    "    classify_result = classifier(sentence_only)\n",
    "    gn_result = gn.predict_entities(sentence, labels, threshold=0.5)\n",
    "    \n",
    "    df.loc[c, 'emotion'] = classify_result[0]['label'] \n",
    "    df.loc[c, 'char'] = gn_result[0]['label']\n",
    "    \n",
    "# 文字到語音\n",
    "for d in range(df.shape[0]):\n",
    "    \n",
    "    tts.tts_to_file(\n",
    "        text=\"Hello world!\",\n",
    "        speaker = df['char'][d]\n",
    "        language=\"en\"\n",
    "        speaker_wav=\"03-01-01-01-01-01-06.wav\",\n",
    "        language=\"en\",\n",
    "        emotion = df['emotion'][d]\n",
    "        file_path=f\"output{d}.wav\")"
   ]
  },
  {
   "cell_type": "code",
   "execution_count": null,
   "id": "72ce5278-de7f-49c9-a739-bd76c0561502",
   "metadata": {},
   "outputs": [],
   "source": [
    "wav_files = [f\"Output/sentence_{i}.wav\" for i in range(1, 5)]\n",
    "\n",
    "combined_audio = AudioSegment.from_wav(wav_files[0])\n",
    "\n",
    "# 逐步將剩下的音頻文件合併到第一個音頻文件中\n",
    "for wav_file in wav_files[1:]:\n",
    "    next_audio = AudioSegment.from_wav(wav_file)\n",
    "    combined_audio += next_audio\n",
    "\n",
    "# 將合併後的音頻文件保存\n",
    "combined_audio.export(\"Output/combined_audio.wav\", format=\"wav\")"
   ]
  }
 ],
 "metadata": {
  "kernelspec": {
   "display_name": "Python 3 (ipykernel)",
   "language": "python",
   "name": "python3"
  },
  "language_info": {
   "codemirror_mode": {
    "name": "ipython",
    "version": 3
   },
   "file_extension": ".py",
   "mimetype": "text/x-python",
   "name": "python",
   "nbconvert_exporter": "python",
   "pygments_lexer": "ipython3",
   "version": "3.9.12"
  }
 },
 "nbformat": 4,
 "nbformat_minor": 5
}
