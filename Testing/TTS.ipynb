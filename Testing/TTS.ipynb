{
 "cells": [
  {
   "cell_type": "code",
   "execution_count": 1,
   "id": "f28c4a3f-07fe-4380-9d6e-6159f04626a9",
   "metadata": {},
   "outputs": [
    {
     "name": "stderr",
     "output_type": "stream",
     "text": [
      "2024-10-11 14:40:42.478693: I tensorflow/core/platform/cpu_feature_guard.cc:210] This TensorFlow binary is optimized to use available CPU instructions in performance-critical operations.\n",
      "To enable the following instructions: AVX2 FMA, in other operations, rebuild TensorFlow with the appropriate compiler flags.\n"
     ]
    }
   ],
   "source": [
    "import torch\n",
    "from TTS.api import TTS\n",
    "from utils.preprocess import *\n",
    "from transformers import pipeline\n",
    "from transformers import AutoTokenizer, AutoModelForSequenceClassification\n",
    "import pandas as pd\n",
    "\n",
    "device = \"cuda\" if torch.cuda.is_available() else \"cpu\""
   ]
  },
  {
   "cell_type": "code",
   "execution_count": 2,
   "id": "98c790b2-8eec-4ea2-a8a0-45340725802e",
   "metadata": {},
   "outputs": [
    {
     "name": "stderr",
     "output_type": "stream",
     "text": [
      "/Library/Frameworks/Python.framework/Versions/3.10/lib/python3.10/site-packages/torch/_utils.py:831: UserWarning: TypedStorage is deprecated. It will be removed in the future and UntypedStorage will be the only storage class. This should only matter to you if you are using storages directly.  To access UntypedStorage directly, use tensor.untyped_storage() instead of tensor.storage()\n",
      "  return self.fget.__get__(instance, owner)()\n",
      "Hardware accelerator e.g. GPU is available in the environment, but no `device` argument is passed to the `Pipeline` object. Model will be on CPU.\n"
     ]
    },
    {
     "name": "stdout",
     "output_type": "stream",
     "text": [
      " > tts_models/multilingual/multi-dataset/xtts_v2 has been updated, clearing model cache...\n",
      " > Downloading model to /Users/wangqiqian/Library/Application Support/tts/tts_models--multilingual--multi-dataset--xtts_v2\n"
     ]
    },
    {
     "name": "stderr",
     "output_type": "stream",
     "text": [
      "100%|██████████████████████████████████▉| 1.87G/1.87G [07:41<00:00, 4.09MiB/s]\n",
      "100%|███████████████████████████████████| 1.87G/1.87G [07:42<00:00, 4.04MiB/s]\u001b[A\n",
      "100%|███████████████████████████████████| 4.37k/4.37k [00:00<00:00, 10.1kiB/s]\n",
      " 69%|██████████████████████████            | 248k/361k [00:00<00:00, 578kiB/s]\n",
      "100%|██████████████████████████████████████| 361k/361k [00:00<00:00, 379kiB/s]\u001b[A\n",
      "100%|█████████████████████████████████████| 32.0/32.0 [00:00<00:00, 19.0kiB/s]\n"
     ]
    },
    {
     "name": "stdout",
     "output_type": "stream",
     "text": [
      " > Model's license - CPML\n",
      " > Check https://coqui.ai/cpml.txt for more info.\n",
      " > Using model: xtts\n"
     ]
    },
    {
     "name": "stderr",
     "output_type": "stream",
     "text": [
      "GPT2InferenceModel has generative capabilities, as `prepare_inputs_for_generation` is explicitly overwritten. However, it doesn't directly inherit from `GenerationMixin`. From 👉v4.50👈 onwards, `PreTrainedModel` will NOT inherit from `GenerationMixin`, and this model will lose the ability to call `generate` and other related functions.\n",
      "  - If you're using `trust_remote_code=True`, you can get rid of this warning by loading the model with an auto class. See https://huggingface.co/docs/transformers/en/model_doc/auto#auto-classes\n",
      "  - If you are the owner of the model architecture code, please modify your model class such that it inherits from `GenerationMixin` (after `PreTrainedModel`, otherwise you'll get an exception).\n",
      "  - If you are not the owner of the model architecture class, please contact the model code owner to update it.\n"
     ]
    }
   ],
   "source": [
    "classifier = pipeline(\"sentiment-analysis\", model=\"michellejieli/emotion_text_classifier\")\n",
    "tts = TTS(\"tts_models/multilingual/multi-dataset/xtts_v2\").to(device)"
   ]
  },
  {
   "cell_type": "code",
   "execution_count": 3,
   "id": "4c553b3b-d963-45d5-acad-dd72658a571d",
   "metadata": {
    "tags": []
   },
   "outputs": [
    {
     "data": {
      "text/html": [
       "<div>\n",
       "<style scoped>\n",
       "    .dataframe tbody tr th:only-of-type {\n",
       "        vertical-align: middle;\n",
       "    }\n",
       "\n",
       "    .dataframe tbody tr th {\n",
       "        vertical-align: top;\n",
       "    }\n",
       "\n",
       "    .dataframe thead th {\n",
       "        text-align: right;\n",
       "    }\n",
       "</style>\n",
       "<table border=\"1\" class=\"dataframe\">\n",
       "  <thead>\n",
       "    <tr style=\"text-align: right;\">\n",
       "      <th></th>\n",
       "      <th>text</th>\n",
       "      <th>narration</th>\n",
       "      <th>label</th>\n",
       "      <th>score</th>\n",
       "    </tr>\n",
       "  </thead>\n",
       "  <tbody>\n",
       "    <tr>\n",
       "      <th>0</th>\n",
       "      <td>FAIR, BROWN, AND TREMBLING  King Hugh Curucha ...</td>\n",
       "      <td>1</td>\n",
       "      <td>neutral</td>\n",
       "      <td>0.977213</td>\n",
       "    </tr>\n",
       "    <tr>\n",
       "      <th>1</th>\n",
       "      <td>Fair and Brown had new dresses, and went to ch...</td>\n",
       "      <td>1</td>\n",
       "      <td>neutral</td>\n",
       "      <td>0.680441</td>\n",
       "    </tr>\n",
       "    <tr>\n",
       "      <th>2</th>\n",
       "      <td>Trembling was kept at home to do the cooking a...</td>\n",
       "      <td>1</td>\n",
       "      <td>neutral</td>\n",
       "      <td>0.977093</td>\n",
       "    </tr>\n",
       "    <tr>\n",
       "      <th>3</th>\n",
       "      <td>They would not let her go out of the house at ...</td>\n",
       "      <td>1</td>\n",
       "      <td>fear</td>\n",
       "      <td>0.954711</td>\n",
       "    </tr>\n",
       "    <tr>\n",
       "      <th>4</th>\n",
       "      <td>They carried on in this way for seven years</td>\n",
       "      <td>1</td>\n",
       "      <td>neutral</td>\n",
       "      <td>0.753016</td>\n",
       "    </tr>\n",
       "    <tr>\n",
       "      <th>...</th>\n",
       "      <td>...</td>\n",
       "      <td>...</td>\n",
       "      <td>...</td>\n",
       "      <td>...</td>\n",
       "    </tr>\n",
       "    <tr>\n",
       "      <th>196</th>\n",
       "      <td>If the little girl that is born to us now live...</td>\n",
       "      <td>0</td>\n",
       "      <td>neutral</td>\n",
       "      <td>0.584807</td>\n",
       "    </tr>\n",
       "    <tr>\n",
       "      <th>197</th>\n",
       "      <td>The cowboy and the prince's daughter lived on ...</td>\n",
       "      <td>1</td>\n",
       "      <td>neutral</td>\n",
       "      <td>0.829893</td>\n",
       "    </tr>\n",
       "    <tr>\n",
       "      <th>198</th>\n",
       "      <td>The mother said to her husband</td>\n",
       "      <td>1</td>\n",
       "      <td>neutral</td>\n",
       "      <td>0.956316</td>\n",
       "    </tr>\n",
       "    <tr>\n",
       "      <th>199</th>\n",
       "      <td>You could not have saved me from the whale but...</td>\n",
       "      <td>0</td>\n",
       "      <td>disgust</td>\n",
       "      <td>0.417073</td>\n",
       "    </tr>\n",
       "    <tr>\n",
       "      <th>200</th>\n",
       "      <td>The son of the king of Emania and Trembling ha...</td>\n",
       "      <td>1</td>\n",
       "      <td>sadness</td>\n",
       "      <td>0.449070</td>\n",
       "    </tr>\n",
       "  </tbody>\n",
       "</table>\n",
       "<p>201 rows × 4 columns</p>\n",
       "</div>"
      ],
      "text/plain": [
       "                                                  text  narration    label  \\\n",
       "0    FAIR, BROWN, AND TREMBLING  King Hugh Curucha ...          1  neutral   \n",
       "1    Fair and Brown had new dresses, and went to ch...          1  neutral   \n",
       "2    Trembling was kept at home to do the cooking a...          1  neutral   \n",
       "3    They would not let her go out of the house at ...          1     fear   \n",
       "4          They carried on in this way for seven years          1  neutral   \n",
       "..                                                 ...        ...      ...   \n",
       "196  If the little girl that is born to us now live...          0  neutral   \n",
       "197  The cowboy and the prince's daughter lived on ...          1  neutral   \n",
       "198                     The mother said to her husband          1  neutral   \n",
       "199  You could not have saved me from the whale but...          0  disgust   \n",
       "200  The son of the king of Emania and Trembling ha...          1  sadness   \n",
       "\n",
       "        score  \n",
       "0    0.977213  \n",
       "1    0.680441  \n",
       "2    0.977093  \n",
       "3    0.954711  \n",
       "4    0.753016  \n",
       "..        ...  \n",
       "196  0.584807  \n",
       "197  0.829893  \n",
       "198  0.956316  \n",
       "199  0.417073  \n",
       "200  0.449070  \n",
       "\n",
       "[201 rows x 4 columns]"
      ]
     },
     "execution_count": 3,
     "metadata": {},
     "output_type": "execute_result"
    }
   ],
   "source": [
    "with open(\"./Labels/70.txt\", \"r\", encoding=\"utf-8\") as file:\n",
    "    text = file.read()\n",
    "    \n",
    "quoted_sentences = extract_sentences_and_narration(text)\n",
    "classified_lst = [classifier(sentence['text']) for sentence in quoted_sentences]\n",
    "# quoted_sentences = pd.DataFrame(quoted_sentences)\n",
    "# classified_lst = [classifier(sentence) for sentence in pd.DataFrame(quoted_sentences)]\n",
    "\n",
    "combined = [\n",
    "    {'text': quoted_sentences[i]['text'],\n",
    "     'narration': quoted_sentences[i]['narration'],\n",
    "     'label': classified_lst[i][0]['label'], \n",
    "     'score': classified_lst[i][0]['score']}\n",
    "    for i in range(len(quoted_sentences))\n",
    "]\n",
    "df_combined = pd.DataFrame(combined)\n",
    "df_combined"
   ]
  },
  {
   "cell_type": "code",
   "execution_count": 5,
   "id": "a5eec42b-50b1-4680-b8b5-aeea8ad6cfcd",
   "metadata": {
    "tags": []
   },
   "outputs": [],
   "source": [
    "# neutral if it's narration\n",
    "for index, row in df_combined.iterrows():\n",
    "    if row['narration']:\n",
    "        tts.tts_to_file(\n",
    "            text = row[\"text\"],\n",
    "            speaker_wav = \"Emotions/record_out.wav\",\n",
    "            language = \"en\",\n",
    "            file_path = f\"Output/sentence_{index+1}.wav\",\n",
    "            emotion = 'neutral'\n",
    "        )\n",
    "    else:\n",
    "        tts.tts_to_file(\n",
    "            text = row[\"text\"],\n",
    "            speaker_wav = \"Emotions/record_out.wav\",\n",
    "            language = \"en\",\n",
    "            file_path = f\"Output/sentence_{index+1}.wav\",\n",
    "            emotion = row[\"label\"]\n",
    "        )"
   ]
  },
  {
   "cell_type": "code",
   "execution_count": 6,
   "id": "951327e4-8fa8-46df-b48c-4754bc262912",
   "metadata": {},
   "outputs": [
    {
     "data": {
      "text/plain": [
       "<_io.BufferedRandom name='Output/combined_audio.wav'>"
      ]
     },
     "execution_count": 6,
     "metadata": {},
     "output_type": "execute_result"
    }
   ],
   "source": [
    "from pydub import AudioSegment\n",
    "\n",
    "wav_files = [f\"Output/sentence_{i}.wav\" for i in range(1, 5)]\n",
    "\n",
    "combined_audio = AudioSegment.from_wav(wav_files[0])\n",
    "\n",
    "# 逐步將剩下的音頻文件合併到第一個音頻文件中\n",
    "for wav_file in wav_files[1:]:\n",
    "    next_audio = AudioSegment.from_wav(wav_file)\n",
    "    combined_audio += next_audio\n",
    "\n",
    "# 將合併後的音頻文件保存\n",
    "combined_audio.export(\"Output/combined_audio.wav\", format=\"wav\")"
   ]
  }
 ],
 "metadata": {
  "kernelspec": {
   "display_name": "Python 3 (ipykernel)",
   "language": "python",
   "name": "python3"
  },
  "language_info": {
   "codemirror_mode": {
    "name": "ipython",
    "version": 3
   },
   "file_extension": ".py",
   "mimetype": "text/x-python",
   "name": "python",
   "nbconvert_exporter": "python",
   "pygments_lexer": "ipython3",
   "version": "3.9.12"
  }
 },
 "nbformat": 4,
 "nbformat_minor": 5
}
